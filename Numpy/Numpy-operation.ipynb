{
 "cells": [
  {
   "cell_type": "code",
   "execution_count": 2,
   "id": "bbcc1497-7479-4e3f-b3bd-6ff03c225d6b",
   "metadata": {},
   "outputs": [],
   "source": [
    "import numpy as np"
   ]
  },
  {
   "cell_type": "code",
   "execution_count": 10,
   "id": "3ab4d6ab-63b7-477a-9f26-8dcf779108b1",
   "metadata": {},
   "outputs": [],
   "source": [
    "arr1=np.arange(12).reshape(6,2)"
   ]
  },
  {
   "cell_type": "code",
   "execution_count": 11,
   "id": "3d2afd39-437c-4ba9-815e-742956fd0670",
   "metadata": {},
   "outputs": [
    {
     "data": {
      "text/plain": [
       "array([[ 0,  1],\n",
       "       [ 2,  3],\n",
       "       [ 4,  5],\n",
       "       [ 6,  7],\n",
       "       [ 8,  9],\n",
       "       [10, 11]])"
      ]
     },
     "execution_count": 11,
     "metadata": {},
     "output_type": "execute_result"
    }
   ],
   "source": [
    "arr1"
   ]
  },
  {
   "cell_type": "code",
   "execution_count": 12,
   "id": "40ebeb7a-f201-4120-9c1a-d778da062736",
   "metadata": {},
   "outputs": [],
   "source": [
    "arr2= np.arange(12,24).reshape(6,2)"
   ]
  },
  {
   "cell_type": "code",
   "execution_count": 14,
   "id": "430ae6ae-4bc6-46f9-a6cb-1297e8f01d7b",
   "metadata": {},
   "outputs": [
    {
     "data": {
      "text/plain": [
       "array([[12, 13],\n",
       "       [14, 15],\n",
       "       [16, 17],\n",
       "       [18, 19],\n",
       "       [20, 21],\n",
       "       [22, 23]])"
      ]
     },
     "execution_count": 14,
     "metadata": {},
     "output_type": "execute_result"
    }
   ],
   "source": [
    "arr2"
   ]
  },
  {
   "cell_type": "code",
   "execution_count": 16,
   "id": "afedef86-f4c8-46d9-b281-1aa91e59a1bb",
   "metadata": {},
   "outputs": [],
   "source": [
    "arr3 = arr1+arr2"
   ]
  },
  {
   "cell_type": "code",
   "execution_count": 18,
   "id": "318cdd28-444b-4110-9768-5e80943fe35c",
   "metadata": {},
   "outputs": [
    {
     "data": {
      "text/plain": [
       "array([[12, 14],\n",
       "       [16, 18],\n",
       "       [20, 22],\n",
       "       [24, 26],\n",
       "       [28, 30],\n",
       "       [32, 34]])"
      ]
     },
     "execution_count": 18,
     "metadata": {},
     "output_type": "execute_result"
    }
   ],
   "source": [
    "arr3"
   ]
  },
  {
   "cell_type": "code",
   "execution_count": 21,
   "id": "4164cfd5-67c0-4e0f-a1a4-fa1d536ea8e5",
   "metadata": {},
   "outputs": [],
   "source": [
    "arr4 = arr1-arr2"
   ]
  },
  {
   "cell_type": "code",
   "execution_count": 23,
   "id": "1c30803c-a514-46d1-9f62-bf6e521be4db",
   "metadata": {},
   "outputs": [
    {
     "data": {
      "text/plain": [
       "array([[-12, -12],\n",
       "       [-12, -12],\n",
       "       [-12, -12],\n",
       "       [-12, -12],\n",
       "       [-12, -12],\n",
       "       [-12, -12]])"
      ]
     },
     "execution_count": 23,
     "metadata": {},
     "output_type": "execute_result"
    }
   ],
   "source": [
    "arr4"
   ]
  },
  {
   "cell_type": "code",
   "execution_count": 26,
   "id": "13cb76eb-2c7e-4adc-9a55-e3b2ba61048a",
   "metadata": {},
   "outputs": [],
   "source": [
    "arr5 = arr1*3"
   ]
  },
  {
   "cell_type": "code",
   "execution_count": 28,
   "id": "3178f610-bcec-4633-8e51-1ef03d7fd267",
   "metadata": {},
   "outputs": [
    {
     "data": {
      "text/plain": [
       "array([[ 0,  3],\n",
       "       [ 6,  9],\n",
       "       [12, 15],\n",
       "       [18, 21],\n",
       "       [24, 27],\n",
       "       [30, 33]])"
      ]
     },
     "execution_count": 28,
     "metadata": {},
     "output_type": "execute_result"
    }
   ],
   "source": [
    "arr5"
   ]
  },
  {
   "cell_type": "code",
   "execution_count": 30,
   "id": "2c132ee0-7e00-49d6-8642-abc847c64b61",
   "metadata": {},
   "outputs": [],
   "source": [
    "arr6= arr1*arr2"
   ]
  },
  {
   "cell_type": "code",
   "execution_count": 32,
   "id": "3e34fc49-05a4-401c-88b2-57de4415e311",
   "metadata": {},
   "outputs": [
    {
     "data": {
      "text/plain": [
       "array([[  0,  13],\n",
       "       [ 28,  45],\n",
       "       [ 64,  85],\n",
       "       [108, 133],\n",
       "       [160, 189],\n",
       "       [220, 253]])"
      ]
     },
     "execution_count": 32,
     "metadata": {},
     "output_type": "execute_result"
    }
   ],
   "source": [
    "arr6\n"
   ]
  },
  {
   "cell_type": "code",
   "execution_count": 41,
   "id": "9514889d-f9ef-4431-8f7e-1e2e946800ea",
   "metadata": {},
   "outputs": [],
   "source": [
    "arr7 = np.arange(12).reshape(2,6)"
   ]
  },
  {
   "cell_type": "code",
   "execution_count": 43,
   "id": "55e18e82-5bdf-468c-bd15-d4ce00774632",
   "metadata": {},
   "outputs": [],
   "source": [
    "arr8= arr1.dot(arr7)"
   ]
  },
  {
   "cell_type": "code",
   "execution_count": 46,
   "id": "41210f3b-a40d-4626-99bd-f78fd73c724e",
   "metadata": {},
   "outputs": [
    {
     "data": {
      "text/plain": [
       "array([[  6,   7,   8,   9,  10,  11],\n",
       "       [ 18,  23,  28,  33,  38,  43],\n",
       "       [ 30,  39,  48,  57,  66,  75],\n",
       "       [ 42,  55,  68,  81,  94, 107],\n",
       "       [ 54,  71,  88, 105, 122, 139],\n",
       "       [ 66,  87, 108, 129, 150, 171]])"
      ]
     },
     "execution_count": 46,
     "metadata": {},
     "output_type": "execute_result"
    }
   ],
   "source": [
    "arr8"
   ]
  },
  {
   "cell_type": "code",
   "execution_count": 49,
   "id": "91d914a2-c5bc-4b65-bea4-d8bfc4ff6b95",
   "metadata": {},
   "outputs": [
    {
     "data": {
      "text/plain": [
       "array([[ 0.        ,  0.84147098,  0.90929743,  0.14112001, -0.7568025 ,\n",
       "        -0.95892427],\n",
       "       [-0.2794155 ,  0.6569866 ,  0.98935825,  0.41211849, -0.54402111,\n",
       "        -0.99999021]])"
      ]
     },
     "execution_count": 49,
     "metadata": {},
     "output_type": "execute_result"
    }
   ],
   "source": [
    "np.sin(arr7)"
   ]
  },
  {
   "cell_type": "code",
   "execution_count": 52,
   "id": "49dea1b6-d084-43f3-8e1a-96ed27e2cc7c",
   "metadata": {},
   "outputs": [
    {
     "data": {
      "text/plain": [
       "5.5"
      ]
     },
     "execution_count": 52,
     "metadata": {},
     "output_type": "execute_result"
    }
   ],
   "source": [
    "arr7.mean()"
   ]
  },
  {
   "cell_type": "code",
   "execution_count": 55,
   "id": "bb2d1f98-82ae-46be-8c9a-ea694cd8eee1",
   "metadata": {},
   "outputs": [
    {
     "data": {
      "text/plain": [
       "66"
      ]
     },
     "execution_count": 55,
     "metadata": {},
     "output_type": "execute_result"
    }
   ],
   "source": [
    "arr7.sum()"
   ]
  },
  {
   "cell_type": "code",
   "execution_count": 57,
   "id": "a2cf3742-a895-4e96-a33d-db42343e1998",
   "metadata": {},
   "outputs": [
    {
     "data": {
      "text/plain": [
       "3.452052529534663"
      ]
     },
     "execution_count": 57,
     "metadata": {},
     "output_type": "execute_result"
    }
   ],
   "source": [
    "arr7.std()"
   ]
  },
  {
   "cell_type": "code",
   "execution_count": 59,
   "id": "97ea8929-efac-403f-be4c-9e312c25e127",
   "metadata": {},
   "outputs": [
    {
     "data": {
      "text/plain": [
       "5.5"
      ]
     },
     "execution_count": 59,
     "metadata": {},
     "output_type": "execute_result"
    }
   ],
   "source": [
    "np.median(arr7)"
   ]
  },
  {
   "cell_type": "code",
   "execution_count": 62,
   "id": "eb0d54a4-fbf5-4487-9f7a-beba33f8ac17",
   "metadata": {},
   "outputs": [
    {
     "data": {
      "text/plain": [
       "11"
      ]
     },
     "execution_count": 62,
     "metadata": {},
     "output_type": "execute_result"
    }
   ],
   "source": [
    "arr7.max()"
   ]
  },
  {
   "cell_type": "code",
   "execution_count": 64,
   "id": "6f55f90b-e005-44a4-867a-8836fa044404",
   "metadata": {},
   "outputs": [
    {
     "data": {
      "text/plain": [
       "array([[ 0,  1,  2,  3,  4,  5],\n",
       "       [ 6,  7,  8,  9, 10, 11]])"
      ]
     },
     "execution_count": 64,
     "metadata": {},
     "output_type": "execute_result"
    }
   ],
   "source": [
    "arr7"
   ]
  },
  {
   "cell_type": "code",
   "execution_count": 66,
   "id": "b54c70d2-b379-478e-9f42-6bf60806218f",
   "metadata": {},
   "outputs": [
    {
     "data": {
      "text/plain": [
       "array([0, 1, 2, 3, 4, 5])"
      ]
     },
     "execution_count": 66,
     "metadata": {},
     "output_type": "execute_result"
    }
   ],
   "source": [
    "arr7.min(axis=0)"
   ]
  },
  {
   "cell_type": "code",
   "execution_count": 68,
   "id": "5af2b900-ded8-48ff-b6c4-5a6626e7f548",
   "metadata": {},
   "outputs": [
    {
     "data": {
      "text/plain": [
       "array([ 5, 11])"
      ]
     },
     "execution_count": 68,
     "metadata": {},
     "output_type": "execute_result"
    }
   ],
   "source": [
    "arr7.max(axis=1)"
   ]
  },
  {
   "cell_type": "code",
   "execution_count": 69,
   "id": "2c585839-ae6b-4ffe-be1d-690aeed9598a",
   "metadata": {},
   "outputs": [
    {
     "data": {
      "text/plain": [
       "array([[1.00000000e+00, 2.71828183e+00, 7.38905610e+00, 2.00855369e+01,\n",
       "        5.45981500e+01, 1.48413159e+02],\n",
       "       [4.03428793e+02, 1.09663316e+03, 2.98095799e+03, 8.10308393e+03,\n",
       "        2.20264658e+04, 5.98741417e+04]])"
      ]
     },
     "execution_count": 69,
     "metadata": {},
     "output_type": "execute_result"
    }
   ],
   "source": [
    "np.exp(arr7)"
   ]
  }
 ],
 "metadata": {
  "kernelspec": {
   "display_name": "Python 3 (ipykernel)",
   "language": "python",
   "name": "python3"
  },
  "language_info": {
   "codemirror_mode": {
    "name": "ipython",
    "version": 3
   },
   "file_extension": ".py",
   "mimetype": "text/x-python",
   "name": "python",
   "nbconvert_exporter": "python",
   "pygments_lexer": "ipython3",
   "version": "3.11.7"
  }
 },
 "nbformat": 4,
 "nbformat_minor": 5
}
