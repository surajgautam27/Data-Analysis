{
 "cells": [
  {
   "cell_type": "code",
   "execution_count": 7,
   "id": "006df73a-28a2-40b2-9467-fd43a631203c",
   "metadata": {},
   "outputs": [],
   "source": [
    "import numpy as np;"
   ]
  },
  {
   "cell_type": "code",
   "execution_count": 4,
   "id": "3b744222-b669-47fd-af4b-517f1b269c61",
   "metadata": {},
   "outputs": [],
   "source": [
    "a1 = np.array([ [1,2,3], [4,5,6] ])"
   ]
  },
  {
   "cell_type": "code",
   "execution_count": 5,
   "id": "15e9a89c-4e9e-428a-8f4f-f923f1396ec0",
   "metadata": {},
   "outputs": [
    {
     "data": {
      "text/plain": [
       "array([[1, 2, 3],\n",
       "       [4, 5, 6]])"
      ]
     },
     "execution_count": 5,
     "metadata": {},
     "output_type": "execute_result"
    }
   ],
   "source": [
    "a1"
   ]
  },
  {
   "cell_type": "code",
   "execution_count": 6,
   "id": "ba385ed3-0f43-489f-82c6-06d5eab26c90",
   "metadata": {},
   "outputs": [
    {
     "data": {
      "text/plain": [
       "(2, 3)"
      ]
     },
     "execution_count": 6,
     "metadata": {},
     "output_type": "execute_result"
    }
   ],
   "source": [
    "a1.shape"
   ]
  },
  {
   "cell_type": "code",
   "execution_count": 7,
   "id": "f7a9fff8-27af-4a34-945a-3b91d965b183",
   "metadata": {},
   "outputs": [
    {
     "data": {
      "text/plain": [
       "2"
      ]
     },
     "execution_count": 7,
     "metadata": {},
     "output_type": "execute_result"
    }
   ],
   "source": [
    "a1.ndim"
   ]
  },
  {
   "cell_type": "code",
   "execution_count": 13,
   "id": "09dc04ae-0abc-4bbd-aed4-6d79af795032",
   "metadata": {},
   "outputs": [],
   "source": [
    "\n",
    "\n",
    "a2 = np.ones([2,3])\n"
   ]
  },
  {
   "cell_type": "code",
   "execution_count": 14,
   "id": "615885bc-4451-4667-affa-efc23f32f5ef",
   "metadata": {},
   "outputs": [
    {
     "data": {
      "text/plain": [
       "array([[1., 1., 1.],\n",
       "       [1., 1., 1.]])"
      ]
     },
     "execution_count": 14,
     "metadata": {},
     "output_type": "execute_result"
    }
   ],
   "source": [
    "a2"
   ]
  },
  {
   "cell_type": "code",
   "execution_count": null,
   "id": "8fee40b3-5f00-4efe-8521-0670a5d8c257",
   "metadata": {},
   "outputs": [],
   "source": []
  },
  {
   "cell_type": "code",
   "execution_count": 15,
   "id": "75832204-75fd-4a9b-b647-74ded4a7c713",
   "metadata": {},
   "outputs": [],
   "source": [
    "a3 = np.identity(5)"
   ]
  },
  {
   "cell_type": "code",
   "execution_count": 16,
   "id": "96346f0d-6a4c-4fd1-b52a-a45d7650ef9b",
   "metadata": {},
   "outputs": [
    {
     "data": {
      "text/plain": [
       "array([[1., 0., 0., 0., 0.],\n",
       "       [0., 1., 0., 0., 0.],\n",
       "       [0., 0., 1., 0., 0.],\n",
       "       [0., 0., 0., 1., 0.],\n",
       "       [0., 0., 0., 0., 1.]])"
      ]
     },
     "execution_count": 16,
     "metadata": {},
     "output_type": "execute_result"
    }
   ],
   "source": [
    "a3"
   ]
  },
  {
   "cell_type": "code",
   "execution_count": 17,
   "id": "21414a76-a655-4bda-8784-82cfa51f629b",
   "metadata": {},
   "outputs": [],
   "source": [
    "a4 = a3.copy()\n"
   ]
  },
  {
   "cell_type": "code",
   "execution_count": 18,
   "id": "fb5ebc7b-aa64-46d7-b0a6-b8a648af94b4",
   "metadata": {},
   "outputs": [
    {
     "data": {
      "text/plain": [
       "array([[1., 0., 0., 0., 0.],\n",
       "       [0., 1., 0., 0., 0.],\n",
       "       [0., 0., 1., 0., 0.],\n",
       "       [0., 0., 0., 1., 0.],\n",
       "       [0., 0., 0., 0., 1.]])"
      ]
     },
     "execution_count": 18,
     "metadata": {},
     "output_type": "execute_result"
    }
   ],
   "source": [
    "a4"
   ]
  },
  {
   "cell_type": "code",
   "execution_count": 19,
   "id": "5e041d4f-a6e1-46b9-835e-bbdbf7257b83",
   "metadata": {},
   "outputs": [
    {
     "data": {
      "text/plain": [
       "array([0, 1, 2, 3, 4, 5, 6, 7, 8, 9])"
      ]
     },
     "execution_count": 19,
     "metadata": {},
     "output_type": "execute_result"
    }
   ],
   "source": [
    "a5 = np.arange(10)\n",
    "a5"
   ]
  },
  {
   "cell_type": "code",
   "execution_count": 20,
   "id": "977416e4-8a49-4822-b8c9-1ad5e1326046",
   "metadata": {},
   "outputs": [
    {
     "data": {
      "text/plain": [
       "array([10, 11, 12, 13, 14, 15, 16, 17, 18, 19])"
      ]
     },
     "execution_count": 20,
     "metadata": {},
     "output_type": "execute_result"
    }
   ],
   "source": [
    "a6 = np.arange(10,20)\n",
    "a6"
   ]
  },
  {
   "cell_type": "code",
   "execution_count": 21,
   "id": "fe966e39-9417-4914-9292-b95afce2100e",
   "metadata": {},
   "outputs": [
    {
     "data": {
      "text/plain": [
       "array([10, 12, 14, 16, 18])"
      ]
     },
     "execution_count": 21,
     "metadata": {},
     "output_type": "execute_result"
    }
   ],
   "source": [
    "a6 = np.arange(10,20,2)\n",
    "a6"
   ]
  },
  {
   "cell_type": "code",
   "execution_count": 30,
   "id": "a8dd4e41-06f4-4020-a72c-1177ad5ff7c2",
   "metadata": {},
   "outputs": [],
   "source": [
    "a6 = np.linspace(10,20,5)\n"
   ]
  },
  {
   "cell_type": "code",
   "execution_count": 29,
   "id": "dad62604-a0f9-4d78-8de7-cc04bf84096b",
   "metadata": {},
   "outputs": [
    {
     "data": {
      "text/plain": [
       "array([10. , 12.5, 15. , 17.5, 20. ])"
      ]
     },
     "execution_count": 29,
     "metadata": {},
     "output_type": "execute_result"
    }
   ],
   "source": [
    "a6"
   ]
  },
  {
   "cell_type": "code",
   "execution_count": 16,
   "id": "4669c879-c462-4708-8a38-449c8a0bc354",
   "metadata": {},
   "outputs": [],
   "source": [
    "\n",
    "a7 = np.array([\n",
    "    [\n",
    "        [1,2,3],\n",
    "        [4,5,6]\n",
    "    ],\n",
    "    [\n",
    "    [1,2,3],\n",
    "        [4,5,6]\n",
    "        \n",
    "    ]\n",
    "    \n",
    "    \n",
    "])\n",
    "\n"
   ]
  },
  {
   "cell_type": "code",
   "execution_count": 36,
   "id": "6b283906-c951-4787-a138-81698456b8b6",
   "metadata": {},
   "outputs": [
    {
     "data": {
      "text/plain": [
       "(2, 2, 3)"
      ]
     },
     "execution_count": 36,
     "metadata": {},
     "output_type": "execute_result"
    }
   ],
   "source": [
    "a7.shape"
   ]
  },
  {
   "cell_type": "code",
   "execution_count": 9,
   "id": "ffb35bf8-1d2b-47cd-b458-c6c9a318e5dd",
   "metadata": {},
   "outputs": [],
   "source": [
    "a8= np.array([[ 2,3,3],[2,2,3]])\n",
    "\n"
   ]
  },
  {
   "cell_type": "code",
   "execution_count": 12,
   "id": "c37ade8c-acb9-46b1-873d-d879b08f9d2d",
   "metadata": {},
   "outputs": [
    {
     "data": {
      "text/plain": [
       "6"
      ]
     },
     "execution_count": 12,
     "metadata": {},
     "output_type": "execute_result"
    }
   ],
   "source": [
    "\n",
    "a8.size"
   ]
  },
  {
   "cell_type": "code",
   "execution_count": 32,
   "id": "dc09812b-4389-49c0-809e-8c4e960ecd25",
   "metadata": {},
   "outputs": [
    {
     "data": {
      "text/plain": [
       "6"
      ]
     },
     "execution_count": 32,
     "metadata": {},
     "output_type": "execute_result"
    }
   ],
   "source": [
    "a8.size\n"
   ]
  },
  {
   "cell_type": "code",
   "execution_count": 34,
   "id": "7e37344e-0725-4bdb-baf3-69c9446df2ea",
   "metadata": {},
   "outputs": [
    {
     "data": {
      "text/plain": [
       "dtype('int32')"
      ]
     },
     "execution_count": 34,
     "metadata": {},
     "output_type": "execute_result"
    }
   ],
   "source": [
    "a8.dtype"
   ]
  },
  {
   "cell_type": "code",
   "execution_count": 36,
   "id": "9e1a51bc-d1d5-4322-8cd0-3f95a1c8128a",
   "metadata": {},
   "outputs": [
    {
     "data": {
      "text/plain": [
       "array([[2., 3., 3.],\n",
       "       [2., 2., 3.]])"
      ]
     },
     "execution_count": 36,
     "metadata": {},
     "output_type": "execute_result"
    }
   ],
   "source": [
    "a8.astype('float')"
   ]
  },
  {
   "cell_type": "code",
   "execution_count": 40,
   "id": "1ba382ba-c8be-41b0-972d-ec409e67538c",
   "metadata": {},
   "outputs": [
    {
     "data": {
      "text/plain": [
       "dtype('int32')"
      ]
     },
     "execution_count": 40,
     "metadata": {},
     "output_type": "execute_result"
    }
   ],
   "source": [
    "a8.dtype"
   ]
  },
  {
   "cell_type": "code",
   "execution_count": 43,
   "id": "8da584ab-e831-4dea-bf8f-d61d32bc4ffc",
   "metadata": {},
   "outputs": [
    {
     "data": {
      "text/plain": [
       "array([['2', '3', '3'],\n",
       "       ['2', '2', '3']], dtype='<U11')"
      ]
     },
     "execution_count": 43,
     "metadata": {},
     "output_type": "execute_result"
    }
   ],
   "source": [
    "a8.astype('str')"
   ]
  },
  {
   "cell_type": "code",
   "execution_count": 48,
   "id": "23ad8a73-7466-4871-b4e7-206bbd07a1b4",
   "metadata": {},
   "outputs": [],
   "source": [
    "a9= a8.astype('float')"
   ]
  },
  {
   "cell_type": "code",
   "execution_count": 50,
   "id": "f366705f-59ba-42d8-bc29-dcd3a2fff554",
   "metadata": {},
   "outputs": [
    {
     "data": {
      "text/plain": [
       "dtype('float64')"
      ]
     },
     "execution_count": 50,
     "metadata": {},
     "output_type": "execute_result"
    }
   ],
   "source": [
    "a9.dtype"
   ]
  },
  {
   "cell_type": "code",
   "execution_count": 52,
   "id": "13b3677c-f946-40a1-9477-62db055cdac2",
   "metadata": {},
   "outputs": [
    {
     "name": "stdout",
     "output_type": "stream",
     "text": [
      "[2 2 3]\n"
     ]
    }
   ],
   "source": [
    "print(a8[1])"
   ]
  }
 ],
 "metadata": {
  "kernelspec": {
   "display_name": "Python 3 (ipykernel)",
   "language": "python",
   "name": "python3"
  },
  "language_info": {
   "codemirror_mode": {
    "name": "ipython",
    "version": 3
   },
   "file_extension": ".py",
   "mimetype": "text/x-python",
   "name": "python",
   "nbconvert_exporter": "python",
   "pygments_lexer": "ipython3",
   "version": "3.11.7"
  }
 },
 "nbformat": 4,
 "nbformat_minor": 5
}
