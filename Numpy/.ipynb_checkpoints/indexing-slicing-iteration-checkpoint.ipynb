{
 "cells": [
  {
   "cell_type": "code",
   "execution_count": 3,
   "id": "afbade2a-0b18-4176-8624-9c1d4ebc1ae9",
   "metadata": {},
   "outputs": [],
   "source": [
    "import numpy as np"
   ]
  },
  {
   "cell_type": "code",
   "execution_count": 4,
   "id": "6d015242-b4eb-4572-8f19-960f25d7afec",
   "metadata": {},
   "outputs": [],
   "source": [
    "arr1 =np.arange(5)"
   ]
  },
  {
   "cell_type": "code",
   "execution_count": 5,
   "id": "a5e8a75f-3cc9-4986-8fd6-feea577eed59",
   "metadata": {},
   "outputs": [
    {
     "data": {
      "text/plain": [
       "array([0, 1, 2, 3, 4])"
      ]
     },
     "execution_count": 5,
     "metadata": {},
     "output_type": "execute_result"
    }
   ],
   "source": [
    "arr1"
   ]
  },
  {
   "cell_type": "code",
   "execution_count": 13,
   "id": "c4db8309-2a33-4eba-b210-10b53a63597c",
   "metadata": {},
   "outputs": [
    {
     "data": {
      "text/plain": [
       "2"
      ]
     },
     "execution_count": 13,
     "metadata": {},
     "output_type": "execute_result"
    }
   ],
   "source": [
    "arr1[2]"
   ]
  },
  {
   "cell_type": "raw",
   "id": "cea79233-580d-48e1-b757-16f27fd336fb",
   "metadata": {},
   "source": []
  },
  {
   "cell_type": "code",
   "execution_count": 25,
   "id": "7ab46e60-198a-45ce-aac0-c25e376528c8",
   "metadata": {},
   "outputs": [],
   "source": [
    "arr2=np.array([[1,2,3,4,5],[6,7,8,9,0],[2,3,4,5,6],[1,2,6,7,8]])"
   ]
  },
  {
   "cell_type": "code",
   "execution_count": 27,
   "id": "3b80040c-2f48-42d1-911c-8159802dd279",
   "metadata": {},
   "outputs": [
    {
     "data": {
      "text/plain": [
       "array([[1, 2, 3, 4, 5],\n",
       "       [6, 7, 8, 9, 0],\n",
       "       [2, 3, 4, 5, 6],\n",
       "       [1, 2, 6, 7, 8]])"
      ]
     },
     "execution_count": 27,
     "metadata": {},
     "output_type": "execute_result"
    }
   ],
   "source": [
    "arr2"
   ]
  },
  {
   "cell_type": "code",
   "execution_count": 8,
   "id": "1d827b2a-ca92-4f00-8807-664b6fdb2581",
   "metadata": {},
   "outputs": [],
   "source": [
    "arr3=np.arange(0,24).reshape(6,4)"
   ]
  },
  {
   "cell_type": "code",
   "execution_count": 9,
   "id": "411b811a-be7e-4d80-b0c5-2d1e16d258f1",
   "metadata": {},
   "outputs": [
    {
     "data": {
      "text/plain": [
       "array([[ 0,  1,  2,  3],\n",
       "       [ 4,  5,  6,  7],\n",
       "       [ 8,  9, 10, 11],\n",
       "       [12, 13, 14, 15],\n",
       "       [16, 17, 18, 19],\n",
       "       [20, 21, 22, 23]])"
      ]
     },
     "execution_count": 9,
     "metadata": {},
     "output_type": "execute_result"
    }
   ],
   "source": [
    "arr3"
   ]
  },
  {
   "cell_type": "code",
   "execution_count": 10,
   "id": "7034ea62-78b0-4bad-9f8b-0c5a1e58b48d",
   "metadata": {},
   "outputs": [
    {
     "name": "stdout",
     "output_type": "stream",
     "text": [
      "[0 1 2 3]\n",
      "[4 5 6 7]\n",
      "[ 8  9 10 11]\n",
      "[12 13 14 15]\n",
      "[16 17 18 19]\n",
      "[20 21 22 23]\n"
     ]
    }
   ],
   "source": [
    "for i in arr3: \n",
    "    print(i)"
   ]
  },
  {
   "cell_type": "code",
   "execution_count": 12,
   "id": "4f8bc3f8-c70f-411b-b125-fd3e02774319",
   "metadata": {},
   "outputs": [
    {
     "data": {
      "text/plain": [
       "array([ 2,  6, 10, 14, 18, 22])"
      ]
     },
     "execution_count": 12,
     "metadata": {},
     "output_type": "execute_result"
    }
   ],
   "source": [
    "arr3[:len(arr3),2]\n"
   ]
  },
  {
   "cell_type": "code",
   "execution_count": 14,
   "id": "8eec0b92-1cf3-4174-938b-0c5982755808",
   "metadata": {},
   "outputs": [
    {
     "data": {
      "text/plain": [
       "array([[0, 1, 2, 3],\n",
       "       [4, 5, 6, 7]])"
      ]
     },
     "execution_count": 14,
     "metadata": {},
     "output_type": "execute_result"
    }
   ],
   "source": [
    "arr3[:2]"
   ]
  },
  {
   "cell_type": "code",
   "execution_count": 17,
   "id": "84bfe534-adf3-452b-a26a-cc2161757e7b",
   "metadata": {},
   "outputs": [
    {
     "data": {
      "text/plain": [
       "array([ 2,  6, 10, 14, 18, 22])"
      ]
     },
     "execution_count": 17,
     "metadata": {},
     "output_type": "execute_result"
    }
   ],
   "source": [
    "arr3[:,2]"
   ]
  },
  {
   "cell_type": "code",
   "execution_count": 19,
   "id": "4903ada2-ce3e-43da-a4d2-983edf8cb9a3",
   "metadata": {},
   "outputs": [
    {
     "data": {
      "text/plain": [
       "array([[ 1,  2,  3],\n",
       "       [ 5,  6,  7],\n",
       "       [ 9, 10, 11],\n",
       "       [13, 14, 15],\n",
       "       [17, 18, 19],\n",
       "       [21, 22, 23]])"
      ]
     },
     "execution_count": 19,
     "metadata": {},
     "output_type": "execute_result"
    }
   ],
   "source": [
    "arr3[:,1:4]"
   ]
  },
  {
   "cell_type": "code",
   "execution_count": 21,
   "id": "5f1ad5c6-039a-49dd-88d1-1152b13a2bca",
   "metadata": {},
   "outputs": [
    {
     "data": {
      "text/plain": [
       "array([[ 0,  1,  2,  3],\n",
       "       [ 4,  5,  6,  7],\n",
       "       [ 8,  9, 10, 11],\n",
       "       [12, 13, 14, 15],\n",
       "       [16, 17, 18, 19],\n",
       "       [20, 21, 22, 23]])"
      ]
     },
     "execution_count": 21,
     "metadata": {},
     "output_type": "execute_result"
    }
   ],
   "source": [
    "arr3"
   ]
  },
  {
   "cell_type": "code",
   "execution_count": 23,
   "id": "88deef4f-da54-4238-b224-b0685f72f6cd",
   "metadata": {},
   "outputs": [
    {
     "data": {
      "text/plain": [
       "array([[13, 14],\n",
       "       [17, 18]])"
      ]
     },
     "execution_count": 23,
     "metadata": {},
     "output_type": "execute_result"
    }
   ],
   "source": [
    "arr3[3:5,1:3]"
   ]
  },
  {
   "cell_type": "code",
   "execution_count": 35,
   "id": "c78a9d52-aeb1-4f04-9722-2f869a91e3b9",
   "metadata": {},
   "outputs": [
    {
     "data": {
      "text/plain": [
       "array([[18, 19],\n",
       "       [22, 23]])"
      ]
     },
     "execution_count": 35,
     "metadata": {},
     "output_type": "execute_result"
    }
   ],
   "source": [
    "arr3[4:,2:]"
   ]
  },
  {
   "cell_type": "code",
   "execution_count": 37,
   "id": "01a092da-5d1a-4de6-b572-d3aa02f0d623",
   "metadata": {},
   "outputs": [
    {
     "data": {
      "text/plain": [
       "array([[ 0,  1,  2,  3],\n",
       "       [ 4,  5,  6,  7],\n",
       "       [ 8,  9, 10, 11],\n",
       "       [12, 13, 14, 15],\n",
       "       [16, 17, 18, 19],\n",
       "       [20, 21, 22, 23]])"
      ]
     },
     "execution_count": 37,
     "metadata": {},
     "output_type": "execute_result"
    }
   ],
   "source": [
    "arr3"
   ]
  },
  {
   "cell_type": "code",
   "execution_count": 49,
   "id": "56ba584a-c371-43d6-b63e-8c54373180c4",
   "metadata": {},
   "outputs": [
    {
     "name": "stdout",
     "output_type": "stream",
     "text": [
      "[0 1 2 3]\n",
      "0\n",
      "[0 1 2 3]\n",
      "1\n",
      "[0 1 2 3]\n",
      "2\n",
      "[0 1 2 3]\n",
      "3\n",
      "[4 5 6 7]\n",
      "4\n",
      "[4 5 6 7]\n",
      "5\n",
      "[4 5 6 7]\n",
      "6\n",
      "[4 5 6 7]\n",
      "7\n",
      "[ 8  9 10 11]\n",
      "8\n",
      "[ 8  9 10 11]\n",
      "9\n",
      "[ 8  9 10 11]\n",
      "10\n",
      "[ 8  9 10 11]\n",
      "11\n",
      "[12 13 14 15]\n",
      "12\n",
      "[12 13 14 15]\n",
      "13\n",
      "[12 13 14 15]\n",
      "14\n",
      "[12 13 14 15]\n",
      "15\n",
      "[16 17 18 19]\n",
      "16\n",
      "[16 17 18 19]\n",
      "17\n",
      "[16 17 18 19]\n",
      "18\n",
      "[16 17 18 19]\n",
      "19\n",
      "[20 21 22 23]\n",
      "20\n",
      "[20 21 22 23]\n",
      "21\n",
      "[20 21 22 23]\n",
      "22\n",
      "[20 21 22 23]\n",
      "23\n"
     ]
    }
   ],
   "source": [
    "for i in arr3:\n",
    " for x in i:\n",
    "  print(i)\n",
    "  print(x)"
   ]
  },
  {
   "cell_type": "code",
   "execution_count": 51,
   "id": "9a37448d-dc2a-49b7-bdc5-a18391d29778",
   "metadata": {},
   "outputs": [
    {
     "data": {
      "text/plain": [
       "array([[ 0,  1,  2,  3],\n",
       "       [ 4,  5,  6,  7],\n",
       "       [ 8,  9, 10, 11],\n",
       "       [12, 13, 14, 15],\n",
       "       [16, 17, 18, 19],\n",
       "       [20, 21, 22, 23]])"
      ]
     },
     "execution_count": 51,
     "metadata": {},
     "output_type": "execute_result"
    }
   ],
   "source": [
    "arr3"
   ]
  },
  {
   "cell_type": "code",
   "execution_count": 54,
   "id": "ab66e92d-436d-4fa9-b544-53dfd8fc98aa",
   "metadata": {},
   "outputs": [
    {
     "name": "stdout",
     "output_type": "stream",
     "text": [
      "0\n",
      "1\n",
      "2\n",
      "3\n",
      "4\n",
      "5\n",
      "6\n",
      "7\n",
      "8\n",
      "9\n",
      "10\n",
      "11\n",
      "12\n",
      "13\n",
      "14\n",
      "15\n",
      "16\n",
      "17\n",
      "18\n",
      "19\n",
      "20\n",
      "21\n",
      "22\n",
      "23\n"
     ]
    }
   ],
   "source": [
    "for i in np.nditer(arr3):\n",
    "    print(i)\n"
   ]
  },
  {
   "cell_type": "code",
   "execution_count": null,
   "id": "29fb5a03-5d3f-4784-9207-5c5817f2ce99",
   "metadata": {},
   "outputs": [],
   "source": []
  }
 ],
 "metadata": {
  "kernelspec": {
   "display_name": "Python 3 (ipykernel)",
   "language": "python",
   "name": "python3"
  },
  "language_info": {
   "codemirror_mode": {
    "name": "ipython",
    "version": 3
   },
   "file_extension": ".py",
   "mimetype": "text/x-python",
   "name": "python",
   "nbconvert_exporter": "python",
   "pygments_lexer": "ipython3",
   "version": "3.11.7"
  }
 },
 "nbformat": 4,
 "nbformat_minor": 5
}
