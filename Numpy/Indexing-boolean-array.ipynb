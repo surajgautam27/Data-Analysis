{
 "cells": [
  {
   "cell_type": "code",
   "execution_count": 3,
   "id": "bacf81fe-be05-4a2a-8310-881298f2fb92",
   "metadata": {},
   "outputs": [],
   "source": [
    "import numpy as np"
   ]
  },
  {
   "cell_type": "code",
   "execution_count": 7,
   "id": "1bcb4973-efd3-42d7-9f3c-f00b1323bea3",
   "metadata": {},
   "outputs": [],
   "source": [
    "arr= np.random.randint(low=0,high=100,size=20).reshape(4,5)"
   ]
  },
  {
   "cell_type": "code",
   "execution_count": 11,
   "id": "2cc47e33-cdcb-4954-9957-74b070985534",
   "metadata": {},
   "outputs": [
    {
     "data": {
      "text/plain": [
       "array([86, 64, 99, 69, 82, 69, 56, 92])"
      ]
     },
     "execution_count": 11,
     "metadata": {},
     "output_type": "execute_result"
    }
   ],
   "source": [
    "arr[arr>50]"
   ]
  },
  {
   "cell_type": "code",
   "execution_count": 14,
   "id": "cc00757a-ec63-41f2-9f07-8501c9f56bd6",
   "metadata": {},
   "outputs": [
    {
     "data": {
      "text/plain": [
       "array([[False, False, False,  True,  True],\n",
       "       [ True,  True, False,  True, False],\n",
       "       [False, False, False,  True, False],\n",
       "       [False,  True, False, False,  True]])"
      ]
     },
     "execution_count": 14,
     "metadata": {},
     "output_type": "execute_result"
    }
   ],
   "source": [
    "arr>50"
   ]
  },
  {
   "cell_type": "code",
   "execution_count": 20,
   "id": "24b02d7f-5307-437f-a17c-4cb54516a4c2",
   "metadata": {},
   "outputs": [
    {
     "data": {
      "text/plain": [
       "array([86, 64, 82, 56, 92])"
      ]
     },
     "execution_count": 20,
     "metadata": {},
     "output_type": "execute_result"
    }
   ],
   "source": [
    "arr[(arr>50) & (arr%2==0)]"
   ]
  },
  {
   "cell_type": "code",
   "execution_count": 22,
   "id": "ed04daec-4045-419f-81fe-2625d16817e6",
   "metadata": {},
   "outputs": [],
   "source": [
    "arr1=arr[(arr>50) & (arr%2==0)]\n"
   ]
  },
  {
   "cell_type": "code",
   "execution_count": 24,
   "id": "92813319-abf7-4dd9-b14a-1181d6fb7033",
   "metadata": {},
   "outputs": [
    {
     "data": {
      "text/plain": [
       "array([86, 64, 82, 56, 92])"
      ]
     },
     "execution_count": 24,
     "metadata": {},
     "output_type": "execute_result"
    }
   ],
   "source": [
    "arr1"
   ]
  },
  {
   "cell_type": "code",
   "execution_count": 29,
   "id": "7e16b467-2d10-482d-ba39-bece514f96ee",
   "metadata": {},
   "outputs": [],
   "source": [
    "arr[(arr>50) & (arr%2==0)]=0"
   ]
  },
  {
   "cell_type": "code",
   "execution_count": 30,
   "id": "ef39b650-6539-41a2-92b2-debcee2dd06e",
   "metadata": {},
   "outputs": [
    {
     "data": {
      "text/plain": [
       "array([[17,  4, 49,  0,  0],\n",
       "       [99, 69, 43,  0, 47],\n",
       "       [22, 25, 16, 69, 29],\n",
       "       [47,  0, 16, 31,  0]])"
      ]
     },
     "execution_count": 30,
     "metadata": {},
     "output_type": "execute_result"
    }
   ],
   "source": [
    "arr"
   ]
  }
 ],
 "metadata": {
  "kernelspec": {
   "display_name": "Python 3 (ipykernel)",
   "language": "python",
   "name": "python3"
  },
  "language_info": {
   "codemirror_mode": {
    "name": "ipython",
    "version": 3
   },
   "file_extension": ".py",
   "mimetype": "text/x-python",
   "name": "python",
   "nbconvert_exporter": "python",
   "pygments_lexer": "ipython3",
   "version": "3.11.7"
  }
 },
 "nbformat": 4,
 "nbformat_minor": 5
}
